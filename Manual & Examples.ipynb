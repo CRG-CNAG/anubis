{
 "cells": [
  {
   "cell_type": "markdown",
   "metadata": {
    "hideCode": false,
    "hidePrompt": false
   },
   "source": [
    "# ANUBIS\n",
    "\n",
    "ANUBIS is a Python framework to analyze Tn-seq data.\n",
    "\n",
    "----\n",
    "\n",
    "## Index of Content:\n",
    "* [Requirements](#req)\n",
    "* [Tn-seq data processing](#proc)\n",
    "* [Installation](#req)\n",
    "* [Tn-seq data processing](#proc)\n",
    "\n",
    "----\n",
    "\n",
    "## Requirements <a class=\"anchor\" id=\"req\"></a>\n",
    "\n",
    "Specific libraries are required by ANUBIS. We provide a [requirements](./requirements.txt) file to install everything at once. To do so, you will need first to have [pip](https://pip.pypa.io/en/stable/installing/) installed and then run:\n",
    "\n",
    "```bash\n",
    "sudo apt-get install python-pip    # if you need to install pip\n",
    "pip install -r requirements.txt\n",
    "```\n",
    "\n",
    "----\n",
    "\n",
    "## Tn-seq data processing <a class=\"anchor\" id=\"proc\"></a>\n",
    "\n",
    "ANUBIS has been mainly developed to work with [FASTQINS](https://github.com/CRG-CNAG/fastqins) generated files. This is a standard pipeline to process raw fastq Tn-seq files to obtain insertion profiles that can be interpreted by ANUBIS (.wig or .qins extensions).\n",
    "\n",
    "----\n",
    "\n",
    "\n",
    "## Installation<a class=\"anchor\" id=\"install\"></a>\n",
    "\n",
    "Download ANUBIS repository and run:\n",
    "\n",
    "```bash\n",
    "python3 setup.py install\n",
    "```\n",
    "\n",
    "You may require to call it using sudo. Once installed, `anubis` will be integrated in your python distribution.\n",
    "\n",
    "----\n",
    "\n",
    "## Manual<a class=\"anchor\" id=\"man\"></a>"
   ]
  },
  {
   "cell_type": "code",
   "execution_count": null,
   "metadata": {
    "collapsed": true,
    "hideCode": false,
    "hidePrompt": false
   },
   "outputs": [],
   "source": [
    "## M"
   ]
  },
  {
   "cell_type": "code",
   "execution_count": null,
   "metadata": {
    "collapsed": true,
    "hideCode": false,
    "hidePrompt": false
   },
   "outputs": [],
   "source": []
  },
  {
   "cell_type": "code",
   "execution_count": null,
   "metadata": {
    "collapsed": true,
    "hideCode": false,
    "hidePrompt": false
   },
   "outputs": [],
   "source": []
  },
  {
   "cell_type": "markdown",
   "metadata": {
    "hideCode": false,
    "hidePrompt": false
   },
   "source": [
    "## Contact\n",
    "\n",
    "This project has been fully developed at [Centre for Genomic Regulation](http://www.crg.eu/) at the group of [Design of Biological Systems](http://www.crg.eu/en/luis_serrano).\n",
    "\n",
    "If you experience any problem at any step involving the program, you can use the 'Issues' page of this repository or contact:\n",
    "\n",
    "[Miravet-Verde, Samuel](mailto:samuel.miravet@crg.eu)       \n",
    "[Lluch-Senar, Maria](mailto:maria.lluch@crg.eu)       \n",
    "[Serrano, Luis](mailto:luis.serrano@crg.eu)"
   ]
  },
  {
   "cell_type": "code",
   "execution_count": null,
   "metadata": {
    "collapsed": true,
    "hideCode": false,
    "hidePrompt": false
   },
   "outputs": [],
   "source": []
  }
 ],
 "metadata": {
  "hide_code_all_hidden": false,
  "kernelspec": {
   "display_name": "Python 3",
   "language": "python",
   "name": "python3"
  },
  "language_info": {
   "codemirror_mode": {
    "name": "ipython",
    "version": 3
   },
   "file_extension": ".py",
   "mimetype": "text/x-python",
   "name": "python",
   "nbconvert_exporter": "python",
   "pygments_lexer": "ipython3",
   "version": "3.6.9"
  }
 },
 "nbformat": 4,
 "nbformat_minor": 2
}
